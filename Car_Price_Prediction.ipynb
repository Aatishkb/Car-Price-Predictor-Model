{
 "cells": [
  {
   "cell_type": "markdown",
   "metadata": {},
   "source": [
    "# Car Price Predictor By ML\n",
    "###\n",
    " ### Goal :- In this project we will predict price of car"
   ]
  },
  {
   "cell_type": "markdown",
   "metadata": {
    "id": "QSghHhtIzjV5"
   },
   "source": [
    "## (1) Importing the Required Libraries"
   ]
  },
  {
   "cell_type": "code",
   "execution_count": 127,
   "metadata": {
    "id": "pNrkfaZWtJJ7"
   },
   "outputs": [],
   "source": [
    "import pandas as pd\n",
    "import numpy as np\n",
    "from sklearn.model_selection import train_test_split\n",
    "from sklearn.linear_model import LinearRegression"
   ]
  },
  {
   "cell_type": "markdown",
   "metadata": {
    "id": "VrDd3I050OqH"
   },
   "source": [
    "## (2) Load the DataSet"
   ]
  },
  {
   "cell_type": "code",
   "execution_count": 128,
   "metadata": {
    "id": "k0lBJoM90JHf"
   },
   "outputs": [],
   "source": [
    "# loading the data from csv file to pandas dataframe\n",
    "car_dataset = pd.read_csv(r'A:\\MTECH(Data Science)\\DataSet\\car_price_predictor-master\\Cleaned_Car_data.csv')"
   ]
  },
  {
   "cell_type": "code",
   "execution_count": 129,
   "metadata": {
    "colab": {
     "base_uri": "https://localhost:8080/",
     "height": 198
    },
    "id": "9YKIoB-i0kIi",
    "outputId": "76d663f3-f266-4c82-ecb9-fb4fbb9074ff"
   },
   "outputs": [
    {
     "data": {
      "text/html": [
       "<div>\n",
       "<style scoped>\n",
       "    .dataframe tbody tr th:only-of-type {\n",
       "        vertical-align: middle;\n",
       "    }\n",
       "\n",
       "    .dataframe tbody tr th {\n",
       "        vertical-align: top;\n",
       "    }\n",
       "\n",
       "    .dataframe thead th {\n",
       "        text-align: right;\n",
       "    }\n",
       "</style>\n",
       "<table border=\"1\" class=\"dataframe\">\n",
       "  <thead>\n",
       "    <tr style=\"text-align: right;\">\n",
       "      <th></th>\n",
       "      <th>Unnamed: 0</th>\n",
       "      <th>name</th>\n",
       "      <th>company</th>\n",
       "      <th>year</th>\n",
       "      <th>Price</th>\n",
       "      <th>kms_driven</th>\n",
       "      <th>fuel_type</th>\n",
       "    </tr>\n",
       "  </thead>\n",
       "  <tbody>\n",
       "    <tr>\n",
       "      <th>0</th>\n",
       "      <td>0</td>\n",
       "      <td>Hyundai Santro Xing</td>\n",
       "      <td>Hyundai</td>\n",
       "      <td>2007</td>\n",
       "      <td>80000</td>\n",
       "      <td>45000</td>\n",
       "      <td>Petrol</td>\n",
       "    </tr>\n",
       "    <tr>\n",
       "      <th>1</th>\n",
       "      <td>1</td>\n",
       "      <td>Mahindra Jeep CL550</td>\n",
       "      <td>Mahindra</td>\n",
       "      <td>2006</td>\n",
       "      <td>425000</td>\n",
       "      <td>40</td>\n",
       "      <td>Diesel</td>\n",
       "    </tr>\n",
       "    <tr>\n",
       "      <th>2</th>\n",
       "      <td>2</td>\n",
       "      <td>Hyundai Grand i10</td>\n",
       "      <td>Hyundai</td>\n",
       "      <td>2014</td>\n",
       "      <td>325000</td>\n",
       "      <td>28000</td>\n",
       "      <td>Petrol</td>\n",
       "    </tr>\n",
       "    <tr>\n",
       "      <th>3</th>\n",
       "      <td>3</td>\n",
       "      <td>Ford EcoSport Titanium</td>\n",
       "      <td>Ford</td>\n",
       "      <td>2014</td>\n",
       "      <td>575000</td>\n",
       "      <td>36000</td>\n",
       "      <td>Diesel</td>\n",
       "    </tr>\n",
       "    <tr>\n",
       "      <th>4</th>\n",
       "      <td>4</td>\n",
       "      <td>Ford Figo</td>\n",
       "      <td>Ford</td>\n",
       "      <td>2012</td>\n",
       "      <td>175000</td>\n",
       "      <td>41000</td>\n",
       "      <td>Diesel</td>\n",
       "    </tr>\n",
       "  </tbody>\n",
       "</table>\n",
       "</div>"
      ],
      "text/plain": [
       "   Unnamed: 0                    name   company  year   Price  kms_driven  \\\n",
       "0           0     Hyundai Santro Xing   Hyundai  2007   80000       45000   \n",
       "1           1     Mahindra Jeep CL550  Mahindra  2006  425000          40   \n",
       "2           2       Hyundai Grand i10   Hyundai  2014  325000       28000   \n",
       "3           3  Ford EcoSport Titanium      Ford  2014  575000       36000   \n",
       "4           4               Ford Figo      Ford  2012  175000       41000   \n",
       "\n",
       "  fuel_type  \n",
       "0    Petrol  \n",
       "1    Diesel  \n",
       "2    Petrol  \n",
       "3    Diesel  \n",
       "4    Diesel  "
      ]
     },
     "execution_count": 129,
     "metadata": {},
     "output_type": "execute_result"
    }
   ],
   "source": [
    "# inspecting the first 5 rows of the dataframe\n",
    "car_dataset.head()"
   ]
  },
  {
   "cell_type": "code",
   "execution_count": 130,
   "metadata": {
    "colab": {
     "base_uri": "https://localhost:8080/"
    },
    "id": "rpNJj7TN0s0F",
    "outputId": "ec36f597-b99c-4d6d-f65e-5dcb76aeff13"
   },
   "outputs": [
    {
     "data": {
      "text/plain": [
       "(816, 7)"
      ]
     },
     "execution_count": 130,
     "metadata": {},
     "output_type": "execute_result"
    }
   ],
   "source": [
    "# checking the number of rows and columns\n",
    "car_dataset.shape"
   ]
  },
  {
   "cell_type": "code",
   "execution_count": 131,
   "metadata": {
    "colab": {
     "base_uri": "https://localhost:8080/"
    },
    "id": "uxeZ9Px708Ek",
    "outputId": "39bf8353-ceec-4093-830f-64f750662c46",
    "scrolled": true
   },
   "outputs": [
    {
     "name": "stdout",
     "output_type": "stream",
     "text": [
      "<class 'pandas.core.frame.DataFrame'>\n",
      "RangeIndex: 816 entries, 0 to 815\n",
      "Data columns (total 7 columns):\n",
      " #   Column      Non-Null Count  Dtype \n",
      "---  ------      --------------  ----- \n",
      " 0   Unnamed: 0  816 non-null    int64 \n",
      " 1   name        816 non-null    object\n",
      " 2   company     816 non-null    object\n",
      " 3   year        816 non-null    int64 \n",
      " 4   Price       816 non-null    int64 \n",
      " 5   kms_driven  816 non-null    int64 \n",
      " 6   fuel_type   816 non-null    object\n",
      "dtypes: int64(4), object(3)\n",
      "memory usage: 44.8+ KB\n"
     ]
    }
   ],
   "source": [
    "# getting some information about the dataset\n",
    "car_dataset.info()"
   ]
  },
  {
   "cell_type": "code",
   "execution_count": 132,
   "metadata": {},
   "outputs": [],
   "source": [
    "# Unnamed: 0 column will not affect the car price prediction so we will remove it.\n",
    "car_dataset.drop(columns=['Unnamed: 0'], inplace=True)"
   ]
  },
  {
   "cell_type": "code",
   "execution_count": 133,
   "metadata": {
    "colab": {
     "base_uri": "https://localhost:8080/"
    },
    "id": "wZSbDnmM1O_V",
    "outputId": "c23e99c7-0da0-48a6-b483-2e858977141e"
   },
   "outputs": [
    {
     "data": {
      "text/plain": [
       "name          0\n",
       "company       0\n",
       "year          0\n",
       "Price         0\n",
       "kms_driven    0\n",
       "fuel_type     0\n",
       "dtype: int64"
      ]
     },
     "execution_count": 133,
     "metadata": {},
     "output_type": "execute_result"
    }
   ],
   "source": [
    "# checking the number of missing values\n",
    "car_dataset.isnull().sum()"
   ]
  },
  {
   "cell_type": "code",
   "execution_count": 134,
   "metadata": {
    "colab": {
     "base_uri": "https://localhost:8080/"
    },
    "id": "jKeM03IO1kSz",
    "outputId": "6d7a2650-d9d1-4b56-89cf-f5383c023756",
    "scrolled": true
   },
   "outputs": [
    {
     "name": "stdout",
     "output_type": "stream",
     "text": [
      "fuel_type\n",
      "Petrol    428\n",
      "Diesel    386\n",
      "LPG         2\n",
      "Name: count, dtype: int64\n"
     ]
    }
   ],
   "source": [
    "# checking the distribution of categorical data\n",
    "print(car_dataset.fuel_type.value_counts())"
   ]
  },
  {
   "cell_type": "code",
   "execution_count": 135,
   "metadata": {
    "scrolled": true
   },
   "outputs": [
    {
     "name": "stdout",
     "output_type": "stream",
     "text": [
      "Unique values of name\n",
      "['Hyundai Santro Xing' 'Mahindra Jeep CL550' 'Hyundai Grand i10'\n",
      " 'Ford EcoSport Titanium' 'Ford Figo' 'Hyundai Eon'\n",
      " 'Ford EcoSport Ambiente' 'Maruti Suzuki Alto' 'Skoda Fabia Classic'\n",
      " 'Maruti Suzuki Stingray' 'Hyundai Elite i20' 'Mahindra Scorpio SLE'\n",
      " 'Audi A8' 'Audi Q7' 'Mahindra Scorpio S10' 'Hyundai i20 Sportz'\n",
      " 'Maruti Suzuki Vitara' 'Mahindra Bolero DI' 'Maruti Suzuki Swift'\n",
      " 'Maruti Suzuki Wagon' 'Toyota Innova 2.0' 'Renault Lodgy 85'\n",
      " 'Skoda Yeti Ambition' 'Maruti Suzuki Baleno' 'Renault Duster 110'\n",
      " 'Renault Duster 85' 'Honda City 1.5' 'Maruti Suzuki Dzire' 'Honda Amaze'\n",
      " 'Honda Amaze 1.5' 'Honda City' 'Datsun Redi GO' 'Maruti Suzuki SX4'\n",
      " 'Mitsubishi Pajero Sport' 'Honda City ZX' 'Tata Indigo eCS'\n",
      " 'Volkswagen Polo Highline' 'Chevrolet Spark LS' 'Renault Duster 110PS'\n",
      " 'Mini Cooper S' 'Skoda Fabia 1.2L' 'Renault Duster' 'Mahindra Scorpio S4'\n",
      " 'Mahindra Scorpio VLX' 'Mahindra Quanto C8' 'Ford EcoSport' 'Honda Brio'\n",
      " 'Volkswagen Vento Highline' 'Hyundai i20 Magna' 'Toyota Corolla Altis'\n",
      " 'Hyundai Verna Transform' 'BMW 3 Series' 'Maruti Suzuki A'\n",
      " 'Toyota Etios GD' 'Ford Figo Diesel' 'Chevrolet Beat LT' 'BMW 7 Series'\n",
      " 'Mahindra XUV500 W8' 'Hyundai i10 Magna' 'Hyundai Verna Fluidic'\n",
      " 'Maruti Suzuki Ertiga' 'Honda Amaze 1.2' 'Hyundai i20 Asta'\n",
      " 'Maruti Suzuki Eeco' 'Maruti Suzuki Esteem' 'Maruti Suzuki Ritz'\n",
      " 'Toyota Etios Liva' 'Chevrolet Spark' 'Nissan Micra XV' 'Chevrolet Beat'\n",
      " 'Ford EcoSport Trend' 'Tata Indica V2' 'Hindustan Motors Ambassador'\n",
      " 'Toyota Innova 2.5' 'Volkswagen Jetta Highline'\n",
      " 'Volkswagen Polo Comfortline' 'Volkswagen Polo' 'Mahindra Scorpio'\n",
      " 'Nissan Sunny' 'Renault Kwid' 'Chevrolet Spark LT' 'Fiat Punto Emotion'\n",
      " 'Hyundai i10 Sportz' 'Chevrolet Beat LS' 'Tata Indigo CS'\n",
      " 'Hyundai Eon Era' 'Mahindra XUV500' 'Ford Fiesta' 'Hyundai i20'\n",
      " 'Hyundai Fluidic Verna' 'Fiat Petra ELX' 'Maruti Suzuki Ciaz'\n",
      " 'Maruti Suzuki Zen' 'Hyundai Creta 1.6' 'Mahindra Scorpio SLX'\n",
      " 'Tata Nano Cx' 'Tata Sumo Victa' 'Volkswagen Passat Diesel'\n",
      " 'Renault Scala RxL' 'Hyundai i20 Active' 'Mahindra Xylo E4'\n",
      " 'Mahindra Jeep MM' 'Mahindra Bolero SLE' 'Force Motors Force'\n",
      " 'Toyota Etios' 'Honda City VX' 'Mahindra Thar CRDe' 'Audi A4 1.8'\n",
      " 'Mercedes Benz GLA' 'Land Rover Freelander' 'Renault Kwid RXT'\n",
      " 'Tata Aria Pleasure' 'Mercedes Benz B' 'Datsun GO T' 'Honda Jazz VX'\n",
      " 'Chevrolet Tavera Neo' 'Hyundai Eon Sportz' 'Tata Sumo Gold'\n",
      " 'Chevrolet Enjoy 1.4' 'Nissan Terrano XL' 'Maruti Suzuki Maruti'\n",
      " 'Renault Kwid 1.0' 'Hyundai Accent GLX' 'Mahindra TUV300 T4'\n",
      " 'Honda Accord' 'Mahindra Scorpio 2.6' 'Honda Mobilio' 'Skoda Laura'\n",
      " 'Tata Manza Aura' 'Chevrolet Sail UVA' 'Audi A4 2.0' 'Hyundai Elantra SX'\n",
      " 'Mahindra KUV100 K8' 'Hyundai i10' 'Hyundai Accent' 'Hyundai Verna'\n",
      " 'Toyota Fortuner' 'Mahindra Bolero Power' 'Skoda Rapid Elegance'\n",
      " 'Tata Vista Quadrajet' 'Chevrolet Beat Diesel' 'Hyundai Verna 1.4'\n",
      " 'Maruti Suzuki Versa' 'Tata Indigo LX' 'Volkswagen Vento Konekt'\n",
      " 'Mercedes Benz C' 'Maruti Suzuki Omni' 'Hyundai Sonata Transform'\n",
      " 'Honda Jazz S' 'Mahindra Scorpio W' 'Honda Brio V' 'Mahindra TUV300 T8'\n",
      " 'Nissan X Trail' 'Ford Ikon 1.3' 'Toyota Fortuner 3.0' 'Tata Manza ELAN'\n",
      " 'Mercedes Benz A' 'Tata Indigo LS' 'Hyundai Verna 1.6' 'BMW 5 Series'\n",
      " 'Skoda Superb 1.8' 'Audi Q3 2.0' 'Ford Figo Duratorq'\n",
      " 'Mahindra Logan Diesel' 'Tata Nano GenX' 'Honda City SV'\n",
      " 'Ford Figo Petrol' 'Toyota Corolla H2' 'Hyundai Xcent Base'\n",
      " 'Hyundai Accent Executive' 'Tata Zest XE' 'Mahindra XUV500 W6'\n",
      " 'Tata Tigor Revotron' 'Maruti Suzuki 800' 'Honda Mobilio S' 'Tata Indica'\n",
      " 'Honda Brio VX' 'Tata Nano Lx' 'Jaguar XE XE' 'Hyundai Eon Magna'\n",
      " 'Hyundai Eon D' 'Maruti Suzuki Estilo' 'Mahindra Scorpio Vlx'\n",
      " 'Mitsubishi Lancer 1.8' 'Ford Fiesta SXi' 'Audi A6 2.0'\n",
      " 'Hyundai Getz Prime' 'Hyundai Santro' 'Chevrolet Beat PS'\n",
      " 'BMW X1 xDrive20d' 'Tata Nano' 'Chevrolet Cruze LTZ'\n",
      " 'Mahindra XUV500 W10' 'Hyundai Accent GLE' 'Force Motors One'\n",
      " 'Chevrolet Spark 1.0' 'Renault Duster 85PS' 'Chevrolet Enjoy'\n",
      " 'Jeep Wrangler Unlimited' 'Hyundai Verna VGT' 'Maruti Suzuki Celerio'\n",
      " 'Tata Zest Quadrajet' 'Hyundai i10 Era' 'Tata Indigo Marina'\n",
      " 'Hyundai Xcent SX' 'Tata Nano LX' 'Mahindra Xylo E8' 'Tata Manza Aqua'\n",
      " 'Tata Venture EX' 'Skoda Octavia Classic' 'Ford Ikon 1.6'\n",
      " 'Nissan Sunny XL' 'Volkswagen Polo Trendline' 'Hyundai Elantra 1.8'\n",
      " 'Tata Indica eV2' 'Jaguar XF 2.2' 'Audi Q5 2.0' 'BMW X1 sDrive20d'\n",
      " 'Maruti Suzuki S' 'Volkswagen Vento Comfortline' 'Mahindra KUV100'\n",
      " 'Volkswagen Jetta Comfortline' 'Volvo S80 Summum' 'BMW X1'\n",
      " 'Renault Duster RxL' 'Honda WR V' 'Mahindra Scorpio LX'\n",
      " 'Audi A3 Cabriolet' 'Hyundai Santro AE' 'Mahindra Xylo D2'\n",
      " 'Hyundai Getz GLE' 'Nissan Micra XL' 'Chevrolet Tavera LS'\n",
      " 'Tata Tiago Revotron' 'Tata Tiago Revotorq' 'Ford Fusion 1.4'\n",
      " 'Fiat Linea Emotion' 'Toyota Corolla' 'Tata Sumo Grande'\n",
      " 'Volkswagen Polo Highline1.2L' 'Hyundai Creta' 'Tata Bolt XM'\n",
      " 'Datsun Go Plus' 'Ford Endeavor 4x4' 'Mahindra Logan'\n",
      " 'Chevrolet Sail 1.2' 'Tata Manza' 'Toyota Etios G' 'Toyota Qualis'\n",
      " 'Mahindra Quanto C4' 'Hyundai i20 Select' 'Hyundai Getz' 'Skoda Fabia'\n",
      " 'Tata Zest XM']\n",
      "======================\n",
      "Unique values of company\n",
      "['Hyundai' 'Mahindra' 'Ford' 'Maruti' 'Skoda' 'Audi' 'Toyota' 'Renault'\n",
      " 'Honda' 'Datsun' 'Mitsubishi' 'Tata' 'Volkswagen' 'Chevrolet' 'Mini'\n",
      " 'BMW' 'Nissan' 'Hindustan' 'Fiat' 'Force' 'Mercedes' 'Land' 'Jaguar'\n",
      " 'Jeep' 'Volvo']\n",
      "======================\n",
      "Unique values of year\n",
      "[2007 2006 2014 2012 2013 2016 2015 2010 2017 2008 2018 2011 2019 2009\n",
      " 2005 2000 2003 2004 1995 2002 2001]\n",
      "======================\n",
      "Unique values of Price\n",
      "[  80000  425000  325000  575000  175000  190000  830000  250000  182000\n",
      "  315000  415000  320000 1000000  500000  350000  160000  310000   75000\n",
      "  100000  290000   95000  180000  385000  105000  650000  689999  448000\n",
      "  549000  501000  489999  280000  349999  284999  345000  499999  235000\n",
      "  249999 1475000  395000  220000  170000   85000  200000  570000  110000\n",
      "  448999 1891111  159500  344999  449999  865000  699000  375000  224999\n",
      " 1200000  195000  351000  240000   90000  155000  600000  189500  210000\n",
      "  390000  135000 1600000  701000  265000  525000  372000  635000  550000\n",
      "  485000  329500  251111  569999   69999  299999  399999  450000  270000\n",
      "  158400  179000  125000  299000  150000  285000  340000   70000  289999\n",
      "  849999  749999  274999  984999  599999  244999  474999  245000  169500\n",
      "  275000  370000  168000  145000   98500  209000  185000  900000  699999\n",
      "  199999  544999  199000  540000   49000  700000   55000  895000  355000\n",
      "  565000  365000   40000  400000  330000  580000  379000  219000  519000\n",
      "  730000 2000000 2100000 1400000  311000  855000  535000  178000  300000\n",
      "  255000  549999  380000   57000  410000  225000  120000   59000  599000\n",
      "  675000   72500  610000  230000  520000  524999  424999  644999  584999\n",
      "  799999  444999  649999  944999  574999  374999  130000  401000 1350000\n",
      "  174999  239999   99999  324999 1074999 1130000  149000  770000   30000\n",
      "  335000  399000   65000  169999  165000  560000  950000  715000   45000\n",
      "  940000  155555 1500000  495000  800000 1299000  530000 1499000   32000\n",
      "  405000  760000  750000  419000  140000 1540000  123000  498000  480000\n",
      "  488000 1525000  548900  725000   99000   52000 2800000  499000  381000\n",
      "  278000  690000  260000   90001  115000 1599000  159000   51999  215000\n",
      "   35000 1150000  269000   60000  430000 8500003  401919  490000  424000\n",
      "  205000  549900  435000  189700  389700  360000  295000  114990 1065000\n",
      "  470000   48000  188000  465000  179999 2190000 2390000 1075000  475000\n",
      " 1025000  615000 1900000 1490000 1510000 1850000  790000 1725000 1225000\n",
      "   68000  970000 3100000  899000   88000   53000  568500   71000  590000\n",
      "  795000   42000  189000  162000   35999 2900000   39999   50500  510000\n",
      "  860000  500001]\n",
      "======================\n",
      "Unique values of kms_driven\n",
      "[ 45000     40  28000  36000  41000  25000  24530  60000  30000  32000\n",
      "  48660   4000  16934  43000  35550  39522  39000  55000  72000  15975\n",
      "  70000  23452  35522  48508  15487  82000  20000  68000  38000  27000\n",
      "  33000  46000  16000  47000  35000  30874  15000  29685 130000  19000\n",
      "  54000  13000  38200  22000  50000  13500   3600  45863  60500  12500\n",
      "  18000  13349  29000  44000  42000  14000  49000  36200  51000 104000\n",
      "  33333  33600   5600   7500  24330  65480 200000  59000  99000   2800\n",
      "  21000  11000  66000   3000   7000  38500  37200  43200  24800  45872\n",
      "  40000  11400  97200  52000  31000 175430  37000  65000   3350  75000\n",
      "  62000  73000   2200  54870  34580  97000     60  80200   3200      0\n",
      "   5000    588  71200 175400   9300  56758  10000  56450  56000  32700\n",
      "   9000     73 160000  58559  57000 170000  80000   6821  23000  34000\n",
      "   1800 400000  48000  90000  12000  69900 166000    122  36469   7800\n",
      "  24695  15141  59910 100000   4500 129000    300 131000 111111  59466\n",
      "  25500  44005   2110  43222 100200     65 140000 103553  58000 120000\n",
      "  49800    100  81876   6020  55700  18500  53000  35500  22134   1000\n",
      "   8500  87000   6000   8000  55800  56400  72160  11500 133000   2000\n",
      "  88000  65422 117000 150000  10750   6800   9800  57923  30201   6200\n",
      "  37518  24652    383  95000   3528  52500  47900  52800 195000  48008\n",
      "  48247   9400  64000   2137  10544 147000  90001  48006  74000  85000\n",
      "  29500  39700  67000  19336  60105  45933 102563  28600  41800 116000\n",
      "  42590   7400  54500  76000  11523  38600  95500  37458  85960  12516\n",
      "  30600   2550  62500  69000  28400  68485   3500  85455  63000   1600\n",
      "  77000  26500   2875  13900   1500   2450   1625  33400  60123 137495\n",
      "  91200 146000 100800   2100   2500 132000]\n",
      "======================\n",
      "Unique values of fuel_type\n",
      "['Petrol' 'Diesel' 'LPG']\n",
      "======================\n"
     ]
    }
   ],
   "source": [
    "# Print unique vales from each column\n",
    "for col in car_dataset.columns:\n",
    "    print('Unique values of ' + col)\n",
    "    print(car_dataset[col].unique())\n",
    "    print(\"======================\")"
   ]
  },
  {
   "cell_type": "code",
   "execution_count": 136,
   "metadata": {},
   "outputs": [
    {
     "data": {
      "text/html": [
       "<div>\n",
       "<style scoped>\n",
       "    .dataframe tbody tr th:only-of-type {\n",
       "        vertical-align: middle;\n",
       "    }\n",
       "\n",
       "    .dataframe tbody tr th {\n",
       "        vertical-align: top;\n",
       "    }\n",
       "\n",
       "    .dataframe thead th {\n",
       "        text-align: right;\n",
       "    }\n",
       "</style>\n",
       "<table border=\"1\" class=\"dataframe\">\n",
       "  <thead>\n",
       "    <tr style=\"text-align: right;\">\n",
       "      <th></th>\n",
       "      <th>name</th>\n",
       "      <th>company</th>\n",
       "      <th>year</th>\n",
       "      <th>Price</th>\n",
       "      <th>kms_driven</th>\n",
       "      <th>fuel_type</th>\n",
       "    </tr>\n",
       "  </thead>\n",
       "  <tbody>\n",
       "    <tr>\n",
       "      <th>0</th>\n",
       "      <td>Hyundai Santro Xing</td>\n",
       "      <td>Hyundai</td>\n",
       "      <td>2007</td>\n",
       "      <td>80000</td>\n",
       "      <td>45000</td>\n",
       "      <td>Petrol</td>\n",
       "    </tr>\n",
       "    <tr>\n",
       "      <th>1</th>\n",
       "      <td>Mahindra Jeep CL550</td>\n",
       "      <td>Mahindra</td>\n",
       "      <td>2006</td>\n",
       "      <td>425000</td>\n",
       "      <td>40</td>\n",
       "      <td>Diesel</td>\n",
       "    </tr>\n",
       "    <tr>\n",
       "      <th>2</th>\n",
       "      <td>Hyundai Grand i10</td>\n",
       "      <td>Hyundai</td>\n",
       "      <td>2014</td>\n",
       "      <td>325000</td>\n",
       "      <td>28000</td>\n",
       "      <td>Petrol</td>\n",
       "    </tr>\n",
       "    <tr>\n",
       "      <th>3</th>\n",
       "      <td>Ford EcoSport Titanium</td>\n",
       "      <td>Ford</td>\n",
       "      <td>2014</td>\n",
       "      <td>575000</td>\n",
       "      <td>36000</td>\n",
       "      <td>Diesel</td>\n",
       "    </tr>\n",
       "    <tr>\n",
       "      <th>4</th>\n",
       "      <td>Ford Figo</td>\n",
       "      <td>Ford</td>\n",
       "      <td>2012</td>\n",
       "      <td>175000</td>\n",
       "      <td>41000</td>\n",
       "      <td>Diesel</td>\n",
       "    </tr>\n",
       "  </tbody>\n",
       "</table>\n",
       "</div>"
      ],
      "text/plain": [
       "                     name   company  year   Price  kms_driven fuel_type\n",
       "0     Hyundai Santro Xing   Hyundai  2007   80000       45000    Petrol\n",
       "1     Mahindra Jeep CL550  Mahindra  2006  425000          40    Diesel\n",
       "2       Hyundai Grand i10   Hyundai  2014  325000       28000    Petrol\n",
       "3  Ford EcoSport Titanium      Ford  2014  575000       36000    Diesel\n",
       "4               Ford Figo      Ford  2012  175000       41000    Diesel"
      ]
     },
     "execution_count": 136,
     "metadata": {},
     "output_type": "execute_result"
    }
   ],
   "source": [
    "car_dataset.head()"
   ]
  },
  {
   "cell_type": "markdown",
   "metadata": {},
   "source": [
    "### (3) convert all the categorical variables into numerical format."
   ]
  },
  {
   "cell_type": "code",
   "execution_count": 137,
   "metadata": {},
   "outputs": [],
   "source": [
    "# LabelEncoder = Used to convert categorical variables into numerical format.\n",
    "#              = It assigns a numerical label to each category.\n",
    "from sklearn.preprocessing import LabelEncoder\n",
    "LE = LabelEncoder() # Call LabelEncoder fun. and assign into LE variable\n",
    "car_dataset.iloc[:,0] = LE.fit_transform(car_dataset.iloc[:,0].values) # iloc is used for position based selection.\n",
    "car_dataset.iloc[:,1] = LE.fit_transform(car_dataset.iloc[:,1].values)\n",
    "car_dataset.iloc[:,5] = LE.fit_transform(car_dataset.iloc[:,5].values)"
   ]
  },
  {
   "cell_type": "code",
   "execution_count": 138,
   "metadata": {
    "scrolled": true
   },
   "outputs": [
    {
     "data": {
      "text/html": [
       "<div>\n",
       "<style scoped>\n",
       "    .dataframe tbody tr th:only-of-type {\n",
       "        vertical-align: middle;\n",
       "    }\n",
       "\n",
       "    .dataframe tbody tr th {\n",
       "        vertical-align: top;\n",
       "    }\n",
       "\n",
       "    .dataframe thead th {\n",
       "        text-align: right;\n",
       "    }\n",
       "</style>\n",
       "<table border=\"1\" class=\"dataframe\">\n",
       "  <thead>\n",
       "    <tr style=\"text-align: right;\">\n",
       "      <th></th>\n",
       "      <th>name</th>\n",
       "      <th>company</th>\n",
       "      <th>year</th>\n",
       "      <th>Price</th>\n",
       "      <th>kms_driven</th>\n",
       "      <th>fuel_type</th>\n",
       "    </tr>\n",
       "  </thead>\n",
       "  <tbody>\n",
       "    <tr>\n",
       "      <th>0</th>\n",
       "      <td>91</td>\n",
       "      <td>9</td>\n",
       "      <td>2007</td>\n",
       "      <td>80000</td>\n",
       "      <td>45000</td>\n",
       "      <td>2</td>\n",
       "    </tr>\n",
       "    <tr>\n",
       "      <th>1</th>\n",
       "      <td>118</td>\n",
       "      <td>13</td>\n",
       "      <td>2006</td>\n",
       "      <td>425000</td>\n",
       "      <td>40</td>\n",
       "      <td>0</td>\n",
       "    </tr>\n",
       "    <tr>\n",
       "      <th>2</th>\n",
       "      <td>88</td>\n",
       "      <td>9</td>\n",
       "      <td>2014</td>\n",
       "      <td>325000</td>\n",
       "      <td>28000</td>\n",
       "      <td>2</td>\n",
       "    </tr>\n",
       "    <tr>\n",
       "      <th>3</th>\n",
       "      <td>40</td>\n",
       "      <td>6</td>\n",
       "      <td>2014</td>\n",
       "      <td>575000</td>\n",
       "      <td>36000</td>\n",
       "      <td>0</td>\n",
       "    </tr>\n",
       "    <tr>\n",
       "      <th>4</th>\n",
       "      <td>45</td>\n",
       "      <td>6</td>\n",
       "      <td>2012</td>\n",
       "      <td>175000</td>\n",
       "      <td>41000</td>\n",
       "      <td>0</td>\n",
       "    </tr>\n",
       "  </tbody>\n",
       "</table>\n",
       "</div>"
      ],
      "text/plain": [
       "  name company  year   Price  kms_driven fuel_type\n",
       "0   91       9  2007   80000       45000         2\n",
       "1  118      13  2006  425000          40         0\n",
       "2   88       9  2014  325000       28000         2\n",
       "3   40       6  2014  575000       36000         0\n",
       "4   45       6  2012  175000       41000         0"
      ]
     },
     "execution_count": 138,
     "metadata": {},
     "output_type": "execute_result"
    }
   ],
   "source": [
    "# view after convert all the categorical variables into numerical format.\n",
    "car_dataset.head()"
   ]
  },
  {
   "cell_type": "markdown",
   "metadata": {},
   "source": [
    "## (3) Separating the Independent Variable(X) & Dependent Variable(Y)"
   ]
  },
  {
   "cell_type": "code",
   "execution_count": 140,
   "metadata": {
    "id": "XHdzrIlV3baN"
   },
   "outputs": [],
   "source": [
    "x = car_dataset.drop(['Price'],axis=1)\n",
    "y = car_dataset['Price']"
   ]
  },
  {
   "cell_type": "code",
   "execution_count": 155,
   "metadata": {
    "colab": {
     "base_uri": "https://localhost:8080/"
    },
    "id": "vJKZIXOI4ISG",
    "outputId": "98334eff-bd58-4e61-ca4e-d0c18e820163",
    "scrolled": true
   },
   "outputs": [
    {
     "data": {
      "text/html": [
       "<div>\n",
       "<style scoped>\n",
       "    .dataframe tbody tr th:only-of-type {\n",
       "        vertical-align: middle;\n",
       "    }\n",
       "\n",
       "    .dataframe tbody tr th {\n",
       "        vertical-align: top;\n",
       "    }\n",
       "\n",
       "    .dataframe thead th {\n",
       "        text-align: right;\n",
       "    }\n",
       "</style>\n",
       "<table border=\"1\" class=\"dataframe\">\n",
       "  <thead>\n",
       "    <tr style=\"text-align: right;\">\n",
       "      <th></th>\n",
       "      <th>name</th>\n",
       "      <th>company</th>\n",
       "      <th>year</th>\n",
       "      <th>kms_driven</th>\n",
       "      <th>fuel_type</th>\n",
       "    </tr>\n",
       "  </thead>\n",
       "  <tbody>\n",
       "    <tr>\n",
       "      <th>0</th>\n",
       "      <td>91</td>\n",
       "      <td>9</td>\n",
       "      <td>2007</td>\n",
       "      <td>45000</td>\n",
       "      <td>2</td>\n",
       "    </tr>\n",
       "    <tr>\n",
       "      <th>1</th>\n",
       "      <td>118</td>\n",
       "      <td>13</td>\n",
       "      <td>2006</td>\n",
       "      <td>40</td>\n",
       "      <td>0</td>\n",
       "    </tr>\n",
       "    <tr>\n",
       "      <th>2</th>\n",
       "      <td>88</td>\n",
       "      <td>9</td>\n",
       "      <td>2014</td>\n",
       "      <td>28000</td>\n",
       "      <td>2</td>\n",
       "    </tr>\n",
       "    <tr>\n",
       "      <th>3</th>\n",
       "      <td>40</td>\n",
       "      <td>6</td>\n",
       "      <td>2014</td>\n",
       "      <td>36000</td>\n",
       "      <td>0</td>\n",
       "    </tr>\n",
       "    <tr>\n",
       "      <th>4</th>\n",
       "      <td>45</td>\n",
       "      <td>6</td>\n",
       "      <td>2012</td>\n",
       "      <td>41000</td>\n",
       "      <td>0</td>\n",
       "    </tr>\n",
       "  </tbody>\n",
       "</table>\n",
       "</div>"
      ],
      "text/plain": [
       "  name company  year  kms_driven fuel_type\n",
       "0   91       9  2007       45000         2\n",
       "1  118      13  2006          40         0\n",
       "2   88       9  2014       28000         2\n",
       "3   40       6  2014       36000         0\n",
       "4   45       6  2012       41000         0"
      ]
     },
     "execution_count": 155,
     "metadata": {},
     "output_type": "execute_result"
    }
   ],
   "source": [
    "x.head()"
   ]
  },
  {
   "cell_type": "code",
   "execution_count": 158,
   "metadata": {
    "colab": {
     "base_uri": "https://localhost:8080/"
    },
    "id": "U5LIqrS54N9W",
    "outputId": "90503ffa-259e-4a61-a5c0-63cf3b544ae1",
    "scrolled": true
   },
   "outputs": [
    {
     "data": {
      "text/plain": [
       "0     80000\n",
       "1    425000\n",
       "2    325000\n",
       "3    575000\n",
       "4    175000\n",
       "Name: Price, dtype: int64"
      ]
     },
     "execution_count": 158,
     "metadata": {},
     "output_type": "execute_result"
    }
   ],
   "source": [
    "y.head()"
   ]
  },
  {
   "cell_type": "markdown",
   "metadata": {},
   "source": [
    "### (4) Splitting Training and Test data"
   ]
  },
  {
   "cell_type": "code",
   "execution_count": 143,
   "metadata": {},
   "outputs": [],
   "source": [
    "x_train,x_test,y_train,y_test=train_test_split(x,y,test_size=0.2)"
   ]
  },
  {
   "cell_type": "markdown",
   "metadata": {},
   "source": [
    "### (5). Model Creation"
   ]
  },
  {
   "cell_type": "code",
   "execution_count": 144,
   "metadata": {},
   "outputs": [],
   "source": [
    "model = LinearRegression()"
   ]
  },
  {
   "cell_type": "markdown",
   "metadata": {},
   "source": [
    "### (6). Train Model"
   ]
  },
  {
   "cell_type": "code",
   "execution_count": 145,
   "metadata": {},
   "outputs": [
    {
     "data": {
      "text/html": [
       "<style>#sk-container-id-5 {\n",
       "  /* Definition of color scheme common for light and dark mode */\n",
       "  --sklearn-color-text: black;\n",
       "  --sklearn-color-line: gray;\n",
       "  /* Definition of color scheme for unfitted estimators */\n",
       "  --sklearn-color-unfitted-level-0: #fff5e6;\n",
       "  --sklearn-color-unfitted-level-1: #f6e4d2;\n",
       "  --sklearn-color-unfitted-level-2: #ffe0b3;\n",
       "  --sklearn-color-unfitted-level-3: chocolate;\n",
       "  /* Definition of color scheme for fitted estimators */\n",
       "  --sklearn-color-fitted-level-0: #f0f8ff;\n",
       "  --sklearn-color-fitted-level-1: #d4ebff;\n",
       "  --sklearn-color-fitted-level-2: #b3dbfd;\n",
       "  --sklearn-color-fitted-level-3: cornflowerblue;\n",
       "\n",
       "  /* Specific color for light theme */\n",
       "  --sklearn-color-text-on-default-background: var(--sg-text-color, var(--theme-code-foreground, var(--jp-content-font-color1, black)));\n",
       "  --sklearn-color-background: var(--sg-background-color, var(--theme-background, var(--jp-layout-color0, white)));\n",
       "  --sklearn-color-border-box: var(--sg-text-color, var(--theme-code-foreground, var(--jp-content-font-color1, black)));\n",
       "  --sklearn-color-icon: #696969;\n",
       "\n",
       "  @media (prefers-color-scheme: dark) {\n",
       "    /* Redefinition of color scheme for dark theme */\n",
       "    --sklearn-color-text-on-default-background: var(--sg-text-color, var(--theme-code-foreground, var(--jp-content-font-color1, white)));\n",
       "    --sklearn-color-background: var(--sg-background-color, var(--theme-background, var(--jp-layout-color0, #111)));\n",
       "    --sklearn-color-border-box: var(--sg-text-color, var(--theme-code-foreground, var(--jp-content-font-color1, white)));\n",
       "    --sklearn-color-icon: #878787;\n",
       "  }\n",
       "}\n",
       "\n",
       "#sk-container-id-5 {\n",
       "  color: var(--sklearn-color-text);\n",
       "}\n",
       "\n",
       "#sk-container-id-5 pre {\n",
       "  padding: 0;\n",
       "}\n",
       "\n",
       "#sk-container-id-5 input.sk-hidden--visually {\n",
       "  border: 0;\n",
       "  clip: rect(1px 1px 1px 1px);\n",
       "  clip: rect(1px, 1px, 1px, 1px);\n",
       "  height: 1px;\n",
       "  margin: -1px;\n",
       "  overflow: hidden;\n",
       "  padding: 0;\n",
       "  position: absolute;\n",
       "  width: 1px;\n",
       "}\n",
       "\n",
       "#sk-container-id-5 div.sk-dashed-wrapped {\n",
       "  border: 1px dashed var(--sklearn-color-line);\n",
       "  margin: 0 0.4em 0.5em 0.4em;\n",
       "  box-sizing: border-box;\n",
       "  padding-bottom: 0.4em;\n",
       "  background-color: var(--sklearn-color-background);\n",
       "}\n",
       "\n",
       "#sk-container-id-5 div.sk-container {\n",
       "  /* jupyter's `normalize.less` sets `[hidden] { display: none; }`\n",
       "     but bootstrap.min.css set `[hidden] { display: none !important; }`\n",
       "     so we also need the `!important` here to be able to override the\n",
       "     default hidden behavior on the sphinx rendered scikit-learn.org.\n",
       "     See: https://github.com/scikit-learn/scikit-learn/issues/21755 */\n",
       "  display: inline-block !important;\n",
       "  position: relative;\n",
       "}\n",
       "\n",
       "#sk-container-id-5 div.sk-text-repr-fallback {\n",
       "  display: none;\n",
       "}\n",
       "\n",
       "div.sk-parallel-item,\n",
       "div.sk-serial,\n",
       "div.sk-item {\n",
       "  /* draw centered vertical line to link estimators */\n",
       "  background-image: linear-gradient(var(--sklearn-color-text-on-default-background), var(--sklearn-color-text-on-default-background));\n",
       "  background-size: 2px 100%;\n",
       "  background-repeat: no-repeat;\n",
       "  background-position: center center;\n",
       "}\n",
       "\n",
       "/* Parallel-specific style estimator block */\n",
       "\n",
       "#sk-container-id-5 div.sk-parallel-item::after {\n",
       "  content: \"\";\n",
       "  width: 100%;\n",
       "  border-bottom: 2px solid var(--sklearn-color-text-on-default-background);\n",
       "  flex-grow: 1;\n",
       "}\n",
       "\n",
       "#sk-container-id-5 div.sk-parallel {\n",
       "  display: flex;\n",
       "  align-items: stretch;\n",
       "  justify-content: center;\n",
       "  background-color: var(--sklearn-color-background);\n",
       "  position: relative;\n",
       "}\n",
       "\n",
       "#sk-container-id-5 div.sk-parallel-item {\n",
       "  display: flex;\n",
       "  flex-direction: column;\n",
       "}\n",
       "\n",
       "#sk-container-id-5 div.sk-parallel-item:first-child::after {\n",
       "  align-self: flex-end;\n",
       "  width: 50%;\n",
       "}\n",
       "\n",
       "#sk-container-id-5 div.sk-parallel-item:last-child::after {\n",
       "  align-self: flex-start;\n",
       "  width: 50%;\n",
       "}\n",
       "\n",
       "#sk-container-id-5 div.sk-parallel-item:only-child::after {\n",
       "  width: 0;\n",
       "}\n",
       "\n",
       "/* Serial-specific style estimator block */\n",
       "\n",
       "#sk-container-id-5 div.sk-serial {\n",
       "  display: flex;\n",
       "  flex-direction: column;\n",
       "  align-items: center;\n",
       "  background-color: var(--sklearn-color-background);\n",
       "  padding-right: 1em;\n",
       "  padding-left: 1em;\n",
       "}\n",
       "\n",
       "\n",
       "/* Toggleable style: style used for estimator/Pipeline/ColumnTransformer box that is\n",
       "clickable and can be expanded/collapsed.\n",
       "- Pipeline and ColumnTransformer use this feature and define the default style\n",
       "- Estimators will overwrite some part of the style using the `sk-estimator` class\n",
       "*/\n",
       "\n",
       "/* Pipeline and ColumnTransformer style (default) */\n",
       "\n",
       "#sk-container-id-5 div.sk-toggleable {\n",
       "  /* Default theme specific background. It is overwritten whether we have a\n",
       "  specific estimator or a Pipeline/ColumnTransformer */\n",
       "  background-color: var(--sklearn-color-background);\n",
       "}\n",
       "\n",
       "/* Toggleable label */\n",
       "#sk-container-id-5 label.sk-toggleable__label {\n",
       "  cursor: pointer;\n",
       "  display: block;\n",
       "  width: 100%;\n",
       "  margin-bottom: 0;\n",
       "  padding: 0.5em;\n",
       "  box-sizing: border-box;\n",
       "  text-align: center;\n",
       "}\n",
       "\n",
       "#sk-container-id-5 label.sk-toggleable__label-arrow:before {\n",
       "  /* Arrow on the left of the label */\n",
       "  content: \"▸\";\n",
       "  float: left;\n",
       "  margin-right: 0.25em;\n",
       "  color: var(--sklearn-color-icon);\n",
       "}\n",
       "\n",
       "#sk-container-id-5 label.sk-toggleable__label-arrow:hover:before {\n",
       "  color: var(--sklearn-color-text);\n",
       "}\n",
       "\n",
       "/* Toggleable content - dropdown */\n",
       "\n",
       "#sk-container-id-5 div.sk-toggleable__content {\n",
       "  max-height: 0;\n",
       "  max-width: 0;\n",
       "  overflow: hidden;\n",
       "  text-align: left;\n",
       "  /* unfitted */\n",
       "  background-color: var(--sklearn-color-unfitted-level-0);\n",
       "}\n",
       "\n",
       "#sk-container-id-5 div.sk-toggleable__content.fitted {\n",
       "  /* fitted */\n",
       "  background-color: var(--sklearn-color-fitted-level-0);\n",
       "}\n",
       "\n",
       "#sk-container-id-5 div.sk-toggleable__content pre {\n",
       "  margin: 0.2em;\n",
       "  border-radius: 0.25em;\n",
       "  color: var(--sklearn-color-text);\n",
       "  /* unfitted */\n",
       "  background-color: var(--sklearn-color-unfitted-level-0);\n",
       "}\n",
       "\n",
       "#sk-container-id-5 div.sk-toggleable__content.fitted pre {\n",
       "  /* unfitted */\n",
       "  background-color: var(--sklearn-color-fitted-level-0);\n",
       "}\n",
       "\n",
       "#sk-container-id-5 input.sk-toggleable__control:checked~div.sk-toggleable__content {\n",
       "  /* Expand drop-down */\n",
       "  max-height: 200px;\n",
       "  max-width: 100%;\n",
       "  overflow: auto;\n",
       "}\n",
       "\n",
       "#sk-container-id-5 input.sk-toggleable__control:checked~label.sk-toggleable__label-arrow:before {\n",
       "  content: \"▾\";\n",
       "}\n",
       "\n",
       "/* Pipeline/ColumnTransformer-specific style */\n",
       "\n",
       "#sk-container-id-5 div.sk-label input.sk-toggleable__control:checked~label.sk-toggleable__label {\n",
       "  color: var(--sklearn-color-text);\n",
       "  background-color: var(--sklearn-color-unfitted-level-2);\n",
       "}\n",
       "\n",
       "#sk-container-id-5 div.sk-label.fitted input.sk-toggleable__control:checked~label.sk-toggleable__label {\n",
       "  background-color: var(--sklearn-color-fitted-level-2);\n",
       "}\n",
       "\n",
       "/* Estimator-specific style */\n",
       "\n",
       "/* Colorize estimator box */\n",
       "#sk-container-id-5 div.sk-estimator input.sk-toggleable__control:checked~label.sk-toggleable__label {\n",
       "  /* unfitted */\n",
       "  background-color: var(--sklearn-color-unfitted-level-2);\n",
       "}\n",
       "\n",
       "#sk-container-id-5 div.sk-estimator.fitted input.sk-toggleable__control:checked~label.sk-toggleable__label {\n",
       "  /* fitted */\n",
       "  background-color: var(--sklearn-color-fitted-level-2);\n",
       "}\n",
       "\n",
       "#sk-container-id-5 div.sk-label label.sk-toggleable__label,\n",
       "#sk-container-id-5 div.sk-label label {\n",
       "  /* The background is the default theme color */\n",
       "  color: var(--sklearn-color-text-on-default-background);\n",
       "}\n",
       "\n",
       "/* On hover, darken the color of the background */\n",
       "#sk-container-id-5 div.sk-label:hover label.sk-toggleable__label {\n",
       "  color: var(--sklearn-color-text);\n",
       "  background-color: var(--sklearn-color-unfitted-level-2);\n",
       "}\n",
       "\n",
       "/* Label box, darken color on hover, fitted */\n",
       "#sk-container-id-5 div.sk-label.fitted:hover label.sk-toggleable__label.fitted {\n",
       "  color: var(--sklearn-color-text);\n",
       "  background-color: var(--sklearn-color-fitted-level-2);\n",
       "}\n",
       "\n",
       "/* Estimator label */\n",
       "\n",
       "#sk-container-id-5 div.sk-label label {\n",
       "  font-family: monospace;\n",
       "  font-weight: bold;\n",
       "  display: inline-block;\n",
       "  line-height: 1.2em;\n",
       "}\n",
       "\n",
       "#sk-container-id-5 div.sk-label-container {\n",
       "  text-align: center;\n",
       "}\n",
       "\n",
       "/* Estimator-specific */\n",
       "#sk-container-id-5 div.sk-estimator {\n",
       "  font-family: monospace;\n",
       "  border: 1px dotted var(--sklearn-color-border-box);\n",
       "  border-radius: 0.25em;\n",
       "  box-sizing: border-box;\n",
       "  margin-bottom: 0.5em;\n",
       "  /* unfitted */\n",
       "  background-color: var(--sklearn-color-unfitted-level-0);\n",
       "}\n",
       "\n",
       "#sk-container-id-5 div.sk-estimator.fitted {\n",
       "  /* fitted */\n",
       "  background-color: var(--sklearn-color-fitted-level-0);\n",
       "}\n",
       "\n",
       "/* on hover */\n",
       "#sk-container-id-5 div.sk-estimator:hover {\n",
       "  /* unfitted */\n",
       "  background-color: var(--sklearn-color-unfitted-level-2);\n",
       "}\n",
       "\n",
       "#sk-container-id-5 div.sk-estimator.fitted:hover {\n",
       "  /* fitted */\n",
       "  background-color: var(--sklearn-color-fitted-level-2);\n",
       "}\n",
       "\n",
       "/* Specification for estimator info (e.g. \"i\" and \"?\") */\n",
       "\n",
       "/* Common style for \"i\" and \"?\" */\n",
       "\n",
       ".sk-estimator-doc-link,\n",
       "a:link.sk-estimator-doc-link,\n",
       "a:visited.sk-estimator-doc-link {\n",
       "  float: right;\n",
       "  font-size: smaller;\n",
       "  line-height: 1em;\n",
       "  font-family: monospace;\n",
       "  background-color: var(--sklearn-color-background);\n",
       "  border-radius: 1em;\n",
       "  height: 1em;\n",
       "  width: 1em;\n",
       "  text-decoration: none !important;\n",
       "  margin-left: 1ex;\n",
       "  /* unfitted */\n",
       "  border: var(--sklearn-color-unfitted-level-1) 1pt solid;\n",
       "  color: var(--sklearn-color-unfitted-level-1);\n",
       "}\n",
       "\n",
       ".sk-estimator-doc-link.fitted,\n",
       "a:link.sk-estimator-doc-link.fitted,\n",
       "a:visited.sk-estimator-doc-link.fitted {\n",
       "  /* fitted */\n",
       "  border: var(--sklearn-color-fitted-level-1) 1pt solid;\n",
       "  color: var(--sklearn-color-fitted-level-1);\n",
       "}\n",
       "\n",
       "/* On hover */\n",
       "div.sk-estimator:hover .sk-estimator-doc-link:hover,\n",
       ".sk-estimator-doc-link:hover,\n",
       "div.sk-label-container:hover .sk-estimator-doc-link:hover,\n",
       ".sk-estimator-doc-link:hover {\n",
       "  /* unfitted */\n",
       "  background-color: var(--sklearn-color-unfitted-level-3);\n",
       "  color: var(--sklearn-color-background);\n",
       "  text-decoration: none;\n",
       "}\n",
       "\n",
       "div.sk-estimator.fitted:hover .sk-estimator-doc-link.fitted:hover,\n",
       ".sk-estimator-doc-link.fitted:hover,\n",
       "div.sk-label-container:hover .sk-estimator-doc-link.fitted:hover,\n",
       ".sk-estimator-doc-link.fitted:hover {\n",
       "  /* fitted */\n",
       "  background-color: var(--sklearn-color-fitted-level-3);\n",
       "  color: var(--sklearn-color-background);\n",
       "  text-decoration: none;\n",
       "}\n",
       "\n",
       "/* Span, style for the box shown on hovering the info icon */\n",
       ".sk-estimator-doc-link span {\n",
       "  display: none;\n",
       "  z-index: 9999;\n",
       "  position: relative;\n",
       "  font-weight: normal;\n",
       "  right: .2ex;\n",
       "  padding: .5ex;\n",
       "  margin: .5ex;\n",
       "  width: min-content;\n",
       "  min-width: 20ex;\n",
       "  max-width: 50ex;\n",
       "  color: var(--sklearn-color-text);\n",
       "  box-shadow: 2pt 2pt 4pt #999;\n",
       "  /* unfitted */\n",
       "  background: var(--sklearn-color-unfitted-level-0);\n",
       "  border: .5pt solid var(--sklearn-color-unfitted-level-3);\n",
       "}\n",
       "\n",
       ".sk-estimator-doc-link.fitted span {\n",
       "  /* fitted */\n",
       "  background: var(--sklearn-color-fitted-level-0);\n",
       "  border: var(--sklearn-color-fitted-level-3);\n",
       "}\n",
       "\n",
       ".sk-estimator-doc-link:hover span {\n",
       "  display: block;\n",
       "}\n",
       "\n",
       "/* \"?\"-specific style due to the `<a>` HTML tag */\n",
       "\n",
       "#sk-container-id-5 a.estimator_doc_link {\n",
       "  float: right;\n",
       "  font-size: 1rem;\n",
       "  line-height: 1em;\n",
       "  font-family: monospace;\n",
       "  background-color: var(--sklearn-color-background);\n",
       "  border-radius: 1rem;\n",
       "  height: 1rem;\n",
       "  width: 1rem;\n",
       "  text-decoration: none;\n",
       "  /* unfitted */\n",
       "  color: var(--sklearn-color-unfitted-level-1);\n",
       "  border: var(--sklearn-color-unfitted-level-1) 1pt solid;\n",
       "}\n",
       "\n",
       "#sk-container-id-5 a.estimator_doc_link.fitted {\n",
       "  /* fitted */\n",
       "  border: var(--sklearn-color-fitted-level-1) 1pt solid;\n",
       "  color: var(--sklearn-color-fitted-level-1);\n",
       "}\n",
       "\n",
       "/* On hover */\n",
       "#sk-container-id-5 a.estimator_doc_link:hover {\n",
       "  /* unfitted */\n",
       "  background-color: var(--sklearn-color-unfitted-level-3);\n",
       "  color: var(--sklearn-color-background);\n",
       "  text-decoration: none;\n",
       "}\n",
       "\n",
       "#sk-container-id-5 a.estimator_doc_link.fitted:hover {\n",
       "  /* fitted */\n",
       "  background-color: var(--sklearn-color-fitted-level-3);\n",
       "}\n",
       "</style><div id=\"sk-container-id-5\" class=\"sk-top-container\"><div class=\"sk-text-repr-fallback\"><pre>LinearRegression()</pre><b>In a Jupyter environment, please rerun this cell to show the HTML representation or trust the notebook. <br />On GitHub, the HTML representation is unable to render, please try loading this page with nbviewer.org.</b></div><div class=\"sk-container\" hidden><div class=\"sk-item\"><div class=\"sk-estimator fitted sk-toggleable\"><input class=\"sk-toggleable__control sk-hidden--visually\" id=\"sk-estimator-id-5\" type=\"checkbox\" checked><label for=\"sk-estimator-id-5\" class=\"sk-toggleable__label fitted sk-toggleable__label-arrow fitted\">&nbsp;&nbsp;LinearRegression<a class=\"sk-estimator-doc-link fitted\" rel=\"noreferrer\" target=\"_blank\" href=\"https://scikit-learn.org/1.4/modules/generated/sklearn.linear_model.LinearRegression.html\">?<span>Documentation for LinearRegression</span></a><span class=\"sk-estimator-doc-link fitted\">i<span>Fitted</span></span></label><div class=\"sk-toggleable__content fitted\"><pre>LinearRegression()</pre></div> </div></div></div></div>"
      ],
      "text/plain": [
       "LinearRegression()"
      ]
     },
     "execution_count": 145,
     "metadata": {},
     "output_type": "execute_result"
    }
   ],
   "source": [
    "model.fit(x_train, y_train)"
   ]
  },
  {
   "cell_type": "markdown",
   "metadata": {},
   "source": [
    "### (7). Test Model"
   ]
  },
  {
   "cell_type": "code",
   "execution_count": 146,
   "metadata": {},
   "outputs": [],
   "source": [
    "predict = model.predict(x_test)"
   ]
  },
  {
   "cell_type": "code",
   "execution_count": 154,
   "metadata": {
    "scrolled": true
   },
   "outputs": [
    {
     "data": {
      "text/html": [
       "<div>\n",
       "<style scoped>\n",
       "    .dataframe tbody tr th:only-of-type {\n",
       "        vertical-align: middle;\n",
       "    }\n",
       "\n",
       "    .dataframe tbody tr th {\n",
       "        vertical-align: top;\n",
       "    }\n",
       "\n",
       "    .dataframe thead th {\n",
       "        text-align: right;\n",
       "    }\n",
       "</style>\n",
       "<table border=\"1\" class=\"dataframe\">\n",
       "  <thead>\n",
       "    <tr style=\"text-align: right;\">\n",
       "      <th></th>\n",
       "      <th>name</th>\n",
       "      <th>company</th>\n",
       "      <th>year</th>\n",
       "      <th>Price</th>\n",
       "      <th>kms_driven</th>\n",
       "      <th>fuel_type</th>\n",
       "    </tr>\n",
       "  </thead>\n",
       "  <tbody>\n",
       "    <tr>\n",
       "      <th>0</th>\n",
       "      <td>91</td>\n",
       "      <td>9</td>\n",
       "      <td>2007</td>\n",
       "      <td>80000</td>\n",
       "      <td>45000</td>\n",
       "      <td>2</td>\n",
       "    </tr>\n",
       "    <tr>\n",
       "      <th>1</th>\n",
       "      <td>118</td>\n",
       "      <td>13</td>\n",
       "      <td>2006</td>\n",
       "      <td>425000</td>\n",
       "      <td>40</td>\n",
       "      <td>0</td>\n",
       "    </tr>\n",
       "    <tr>\n",
       "      <th>2</th>\n",
       "      <td>88</td>\n",
       "      <td>9</td>\n",
       "      <td>2014</td>\n",
       "      <td>325000</td>\n",
       "      <td>28000</td>\n",
       "      <td>2</td>\n",
       "    </tr>\n",
       "  </tbody>\n",
       "</table>\n",
       "</div>"
      ],
      "text/plain": [
       "  name company  year   Price  kms_driven fuel_type\n",
       "0   91       9  2007   80000       45000         2\n",
       "1  118      13  2006  425000          40         0\n",
       "2   88       9  2014  325000       28000         2"
      ]
     },
     "execution_count": 154,
     "metadata": {},
     "output_type": "execute_result"
    }
   ],
   "source": [
    "car_dataset.head(3)"
   ]
  },
  {
   "cell_type": "markdown",
   "metadata": {},
   "source": [
    "### 8. Car Price Prediction"
   ]
  },
  {
   "cell_type": "code",
   "execution_count": 151,
   "metadata": {},
   "outputs": [
    {
     "name": "stdin",
     "output_type": "stream",
     "text": [
      "Enter Name code :  91\n",
      "Enter company code :  9\n",
      "Enter year :  2007\n",
      "Enter kms_driven :  45000\n",
      "Enter fuel_type code :  2\n"
     ]
    }
   ],
   "source": [
    "a = input('Enter Name code : ')\n",
    "b = input('Enter company code : ')\n",
    "c = input('Enter year : ')\n",
    "d = input('Enter kms_driven : ')\n",
    "e = input('Enter fuel_type code : ')\n",
    "input_data_model = pd.DataFrame(\n",
    "    [[a,b,c,d,e]],\n",
    "    columns=['name','company','year','kms_driven','fuel_type'])"
   ]
  },
  {
   "cell_type": "code",
   "execution_count": 152,
   "metadata": {
    "scrolled": true
   },
   "outputs": [
    {
     "data": {
      "text/html": [
       "<div>\n",
       "<style scoped>\n",
       "    .dataframe tbody tr th:only-of-type {\n",
       "        vertical-align: middle;\n",
       "    }\n",
       "\n",
       "    .dataframe tbody tr th {\n",
       "        vertical-align: top;\n",
       "    }\n",
       "\n",
       "    .dataframe thead th {\n",
       "        text-align: right;\n",
       "    }\n",
       "</style>\n",
       "<table border=\"1\" class=\"dataframe\">\n",
       "  <thead>\n",
       "    <tr style=\"text-align: right;\">\n",
       "      <th></th>\n",
       "      <th>name</th>\n",
       "      <th>company</th>\n",
       "      <th>year</th>\n",
       "      <th>kms_driven</th>\n",
       "      <th>fuel_type</th>\n",
       "    </tr>\n",
       "  </thead>\n",
       "  <tbody>\n",
       "    <tr>\n",
       "      <th>0</th>\n",
       "      <td>91</td>\n",
       "      <td>9</td>\n",
       "      <td>2007</td>\n",
       "      <td>45000</td>\n",
       "      <td>2</td>\n",
       "    </tr>\n",
       "  </tbody>\n",
       "</table>\n",
       "</div>"
      ],
      "text/plain": [
       "  name company  year kms_driven fuel_type\n",
       "0   91       9  2007      45000         2"
      ]
     },
     "execution_count": 152,
     "metadata": {},
     "output_type": "execute_result"
    }
   ],
   "source": [
    "input_data_model"
   ]
  },
  {
   "cell_type": "code",
   "execution_count": 153,
   "metadata": {},
   "outputs": [
    {
     "name": "stdout",
     "output_type": "stream",
     "text": [
      "Predicted price will be :  [198053.71393685]\n"
     ]
    }
   ],
   "source": [
    "print('Predicted price will be : ',model.predict(input_data_model))"
   ]
  },
  {
   "cell_type": "markdown",
   "metadata": {},
   "source": [
    "# **********************************************************************"
   ]
  },
  {
   "cell_type": "markdown",
   "metadata": {
    "id": "YUasAsqI8g49"
   },
   "source": [
    "## Name - Aatish Kumar Baitha\n",
    "  - M.Tech(Data Science 2nd Year Student)\n",
    "- My Linkedin Profile -\n",
    "  - https://www.linkedin.com/in/aatish-kumar-baitha-ba9523191\n",
    "- My Blog\n",
    "  - https://computersciencedatascience.blogspot.com/\n",
    "- My Github Profile\n",
    "  - https://github.com/Aatishkb"
   ]
  },
  {
   "cell_type": "markdown",
   "metadata": {},
   "source": [
    "# Thank you!"
   ]
  }
 ],
 "metadata": {
  "colab": {
   "provenance": []
  },
  "kernelspec": {
   "display_name": "Python 3 (ipykernel)",
   "language": "python",
   "name": "python3"
  },
  "language_info": {
   "codemirror_mode": {
    "name": "ipython",
    "version": 3
   },
   "file_extension": ".py",
   "mimetype": "text/x-python",
   "name": "python",
   "nbconvert_exporter": "python",
   "pygments_lexer": "ipython3",
   "version": "3.11.1"
  }
 },
 "nbformat": 4,
 "nbformat_minor": 4
}
